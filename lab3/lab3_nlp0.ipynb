{
  "nbformat": 4,
  "nbformat_minor": 0,
  "metadata": {
    "colab": {
      "name": "lab3_nlp0.ipynb",
      "version": "0.3.2",
      "provenance": [],
      "collapsed_sections": []
    },
    "kernelspec": {
      "name": "python3",
      "display_name": "Python 3"
    },
    "accelerator": "GPU"
  },
  "cells": [
    {
      "cell_type": "markdown",
      "metadata": {
        "id": "AKByUpsQAEDT",
        "colab_type": "text"
      },
      "source": [
        "lab3_nlp0 \n",
        "for comments read https://github.com/SylGrafe/RepoDl01/lab3/lab3sygr0003.pdf"
      ]
    },
    {
      "cell_type": "markdown",
      "metadata": {
        "id": "Mcl55FPka80M",
        "colab_type": "text"
      },
      "source": [
        "\n",
        "\n",
        "How to fix 'Object arrays cannot be loaded when allow_pickle=False' for imdb.load_data() function?\n",
        "Ask Question\n",
        "\n",
        "https://stackoverflow.com/questions/55890813/how-to-fix-object-arrays-cannot-be-loaded-when-allow-pickle-false-for-imdb-loa"
      ]
    },
    {
      "cell_type": "code",
      "metadata": {
        "id": "cRLK9qQs-iXd",
        "colab_type": "code",
        "outputId": "06c1eeac-5456-4742-ceff-30cbbba780ec",
        "colab": {
          "base_uri": "https://localhost:8080/",
          "height": 292
        }
      },
      "source": [
        "# try to fix bug object arrya ...  with this import\n",
        "!pip install numpy==1.16.1\n",
        "import numpy as np"
      ],
      "execution_count": 0,
      "outputs": [
        {
          "output_type": "stream",
          "text": [
            "Collecting numpy==1.16.1\n",
            "\u001b[?25l  Downloading https://files.pythonhosted.org/packages/f5/bf/4981bcbee43934f0adb8f764a1e70ab0ee5a448f6505bd04a87a2fda2a8b/numpy-1.16.1-cp36-cp36m-manylinux1_x86_64.whl (17.3MB)\n",
            "\u001b[K     |████████████████████████████████| 17.3MB 3.5MB/s \n",
            "\u001b[31mERROR: datascience 0.10.6 has requirement folium==0.2.1, but you'll have folium 0.8.3 which is incompatible.\u001b[0m\n",
            "\u001b[31mERROR: albumentations 0.1.12 has requirement imgaug<0.2.7,>=0.2.5, but you'll have imgaug 0.2.9 which is incompatible.\u001b[0m\n",
            "\u001b[?25hInstalling collected packages: numpy\n",
            "  Found existing installation: numpy 1.16.3\n",
            "    Uninstalling numpy-1.16.3:\n",
            "      Successfully uninstalled numpy-1.16.3\n",
            "Successfully installed numpy-1.16.1\n"
          ],
          "name": "stdout"
        },
        {
          "output_type": "display_data",
          "data": {
            "application/vnd.colab-display-data+json": {
              "pip_warning": {
                "packages": [
                  "numpy"
                ]
              }
            }
          },
          "metadata": {
            "tags": []
          }
        }
      ]
    },
    {
      "cell_type": "code",
      "metadata": {
        "id": "1fvZQRnI_3q8",
        "colab_type": "code",
        "outputId": "e2f6665f-9869-459b-8e47-5c8043d0e60e",
        "colab": {
          "base_uri": "https://localhost:8080/",
          "height": 1483
        }
      },
      "source": [
        "#!/usr/bin/env python\n",
        "# sygr0003 , UMU54907 , VT2019 , lab3_nlp0 , simple nlp (natural language processing)\n",
        "# from 6.2-understanding-recurrent-neural-networks.py \n",
        "\n",
        "import keras\n",
        "keras.__version__\n",
        "\n",
        "# # Understanding recurrent neural networks\n",
        "from keras.models import Sequential\n",
        "from keras.layers import Embedding, SimpleRNN\n",
        "from keras.layers import Dense\n",
        "from keras.datasets import imdb\n",
        "from keras.preprocessing import sequence\n",
        "from keras.layers import LSTM\n",
        "\n",
        "import matplotlib.pyplot as plt\n",
        "import sys\n",
        "\n",
        "\n",
        "max_features = 10000  # number of words to consider as features\n",
        "maxlen = 500  # cut texts after this number of words (among top max_features most common words)\n",
        "batch_size = 32\n",
        "myEpochs=10\n",
        "\n",
        "\n",
        "\"\"\"\n",
        "# TODO TODO   TEST ONLY TO BE REMOVE ---  START \n",
        "myEpochs=1\n",
        "max_features = 10000  # number of words to consider as features\n",
        "maxlen=20\n",
        "# TODO TODO   TEST ONLY TO BE REMOVE ---END\n",
        "\"\"\"\n",
        "\n",
        "\n",
        "################################## funct\n",
        "def plotTraining (theHist , theTitle='training curves'):\n",
        "\n",
        "  plt.figure()\n",
        "  ax = plt.subplot(2, 1, 1)\n",
        "  ax.set_title(theTitle)\n",
        "  acc = theHist.history['acc']\n",
        "  val_acc = theHist.history['val_acc']\n",
        "  loss = theHist.history['loss']\n",
        "  val_loss = theHist.history['val_loss']\n",
        "\n",
        "  epochs = range(len(acc))\n",
        "\n",
        "  plt.plot(epochs, acc, 'bo', label='Training acc')\n",
        "  plt.plot(epochs, val_acc, 'b', label='Validation acc')\n",
        "  plt.legend()\n",
        "\n",
        "  ax = plt.subplot(2, 1, 2)\n",
        "  plt.plot(epochs, loss, 'bo', label='Training loss')\n",
        "  plt.plot(epochs, val_loss, 'b', label='Validation loss')\n",
        "  plt.legend()\n",
        "\n",
        "  plt.show(block=False)\n",
        "  plt.savefig(theTitle)\n",
        "\n",
        "\n",
        "################################## main\n",
        "print('load reviews with max  (num_words=%d)' % (max_features) )\n",
        "(input_train, y_train), (input_test, y_test) = imdb.load_data(num_words=max_features)\n",
        "\n",
        "print( 'nb of reviews    train=%d  , test=%d '  %   (len(input_train ) ,len(input_test) ))\n",
        "\n",
        "someNb=-10\n",
        "print('  input_train.dtype: %s , shapes : input_train :%s , input_test:%s :' % (\n",
        "            (input_train.dtype ) , ( input_train.shape) ,( input_test.shape) ))\n",
        "\n",
        "print (' len(input_train[0]=%d  input_train[0][%d:]   %s ' % \n",
        "       (len(input_train[0]) , someNb , input_train[0][someNb:]))\n",
        "\n",
        "\n",
        "print('Pad sequences to %d words ' % (maxlen))\n",
        "input_train = sequence.pad_sequences(input_train, maxlen=maxlen)\n",
        "input_test = sequence.pad_sequences(input_test, maxlen=maxlen)\n",
        "\n",
        "print(' after padding , shapes  input_train :%s , input_test:%s :' % (\n",
        "           ( input_train.shape) ,( input_test.shape) ))\n",
        "# print (' after padding input_train[0][%d:]   %s ' % (someNb , input_train[0][someNb:]))\n",
        "\n",
        "\n",
        "############### model0  Embedding and Simple RNN \n",
        "\n",
        "print (\"\\ntrain model0 : Embedd (maxFeat , 32 ) + RNN(32)  \")\n",
        "\n",
        "model0 = Sequential()\n",
        "model0.add(Embedding(max_features, 32))\n",
        "model0.add(SimpleRNN(32))\n",
        "model0.add(Dense(1, activation='sigmoid'))\n",
        "\n",
        "model0.compile(optimizer='rmsprop', loss='binary_crossentropy', metrics=['acc'])\n",
        "hist0 = model0.fit(input_train, y_train,\n",
        "                    epochs=myEpochs,\n",
        "                    batch_size=128,\n",
        "                    verbose=1 ,\n",
        "                    validation_split=0.2)\n",
        "\n",
        "\n",
        "\n",
        "# Let's display the training and validation loss and accuracy:\n",
        "theTitle =\"model0 Embedd SimpleRNN(32)\"\n",
        "plotTraining(hist0 , theTitle)\n",
        "\n",
        "# As a reminder, in chapter 3, our very first naive approach to this very dataset got us to 88% test accuracy. Unfortunately, our small  # recurrent network doesn't perform very well at all compared to this baseline (only up to 85% validation accuracy). Part of the problem is \n",
        "# that our inputs only consider the first 500 words rather the full sequences -- \n",
        "# hence our RNN has access to less information than our earlier baseline model. The remainder of the problem is simply that `SimpleRNN` isn't very good at processing long sequences, like text. Other types of recurrent layers perform much better. Let's take a look at some \n",
        "# more advanced layers.\n",
        "\n",
        "# ## A concrete LSTM example in Keras\n",
        "# \n",
        "# Now let's switch to more practical concerns: we will set up a model using a LSTM layer and train it on the IMDB data. Here's the network, \n",
        "# similar to the one with `SimpleRNN` that we just presented. We only specify the output dimensionality of the LSTM layer, and leave every \n",
        "# other argument (there are lots) to the Keras defaults. Keras has good defaults, and things will almost always \"just work\" without you \n",
        "# having to spend time tuning parameters by hand.\n",
        "\n",
        "\n",
        "############### model1  Embedding and lstm\n",
        "\n",
        "model1 = Sequential()\n",
        "model1.add(Embedding(max_features, 32))\n",
        "model1.add(LSTM(32))\n",
        "model1.add(Dense(1, activation='sigmoid'))\n",
        "\n",
        "model1.compile(optimizer='rmsprop',\n",
        "              loss='binary_crossentropy',\n",
        "              metrics=['acc'])\n",
        "\n",
        "print (\"\\nlab3_nlp0 train model1 : Embedd (maxFeat , 32 ) + LSTM(32)  \")\n",
        "hist1 = model1.fit(input_train, y_train,\n",
        "                    epochs=myEpochs,\n",
        "                    batch_size=128,\n",
        "                   verbose=1 ,\n",
        "                    validation_split=0.2)\n",
        "\n",
        "theTitle =\"model1 Embedd LSTM(32)\"\n",
        "plotTraining( hist1 , theTitle)\n"
      ],
      "execution_count": 0,
      "outputs": [
        {
          "output_type": "stream",
          "text": [
            "load reviews with max  (num_words=10000)\n",
            "nb of reviews    train=25000  , test=25000 \n",
            "  input_train.dtype: object , shapes : input_train :(25000,) , input_test:(25000,) :\n",
            " len(input_train[0]=218  input_train[0][-10:]   [4472, 113, 103, 32, 15, 16, 5345, 19, 178, 32] \n",
            "Pad sequences to 500 words \n",
            " after padding , shapes  input_train :(25000, 500) , input_test:(25000, 500) :\n",
            "\n",
            "train model0 : Embedd (maxFeat , 32 ) + RNN(32)  \n",
            "Train on 20000 samples, validate on 5000 samples\n",
            "Epoch 1/10\n",
            "20000/20000 [==============================] - 26s 1ms/step - loss: 0.6493 - acc: 0.6057 - val_loss: 0.5884 - val_acc: 0.7178\n",
            "Epoch 2/10\n",
            "20000/20000 [==============================] - 25s 1ms/step - loss: 0.4226 - acc: 0.8208 - val_loss: 0.4540 - val_acc: 0.7876\n",
            "Epoch 3/10\n",
            "20000/20000 [==============================] - 26s 1ms/step - loss: 0.3183 - acc: 0.8693 - val_loss: 0.3998 - val_acc: 0.8166\n",
            "Epoch 4/10\n",
            "20000/20000 [==============================] - 26s 1ms/step - loss: 0.2406 - acc: 0.9058 - val_loss: 0.3724 - val_acc: 0.8570\n",
            "Epoch 5/10\n",
            "20000/20000 [==============================] - 25s 1ms/step - loss: 0.1649 - acc: 0.9405 - val_loss: 0.3774 - val_acc: 0.8634\n",
            "Epoch 6/10\n",
            "20000/20000 [==============================] - 26s 1ms/step - loss: 0.1092 - acc: 0.9634 - val_loss: 0.4268 - val_acc: 0.8508\n",
            "Epoch 7/10\n",
            "20000/20000 [==============================] - 25s 1ms/step - loss: 0.0700 - acc: 0.9780 - val_loss: 0.4943 - val_acc: 0.8192\n",
            "Epoch 8/10\n",
            "20000/20000 [==============================] - 25s 1ms/step - loss: 0.0451 - acc: 0.9867 - val_loss: 0.5192 - val_acc: 0.8316\n",
            "Epoch 9/10\n",
            "20000/20000 [==============================] - 25s 1ms/step - loss: 0.0267 - acc: 0.9922 - val_loss: 0.6264 - val_acc: 0.8054\n",
            "Epoch 10/10\n",
            "20000/20000 [==============================] - 26s 1ms/step - loss: 0.0200 - acc: 0.9950 - val_loss: 0.6830 - val_acc: 0.8126\n"
          ],
          "name": "stdout"
        },
        {
          "output_type": "display_data",
          "data": {
            "image/png": "[encoded data removed]",
            "text/plain": [
              "<Figure size 432x288 with 2 Axes>"
            ]
          },
          "metadata": {
            "tags": []
          }
        },
        {
          "output_type": "stream",
          "text": [
            "\n",
            "lab3_nlp0 train model1 : Embedd (maxFeat , 32 ) + LSTM(32)  \n",
            "Train on 20000 samples, validate on 5000 samples\n",
            "Epoch 1/10\n",
            "20000/20000 [==============================] - 105s 5ms/step - loss: 0.5045 - acc: 0.7648 - val_loss: 0.4358 - val_acc: 0.7998\n",
            "Epoch 2/10\n",
            "20000/20000 [==============================] - 104s 5ms/step - loss: 0.2905 - acc: 0.8843 - val_loss: 0.3544 - val_acc: 0.8458\n",
            "Epoch 3/10\n",
            "20000/20000 [==============================] - 105s 5ms/step - loss: 0.2291 - acc: 0.9123 - val_loss: 0.2910 - val_acc: 0.8856\n",
            "Epoch 4/10\n",
            "20000/20000 [==============================] - 103s 5ms/step - loss: 0.1940 - acc: 0.9297 - val_loss: 0.3247 - val_acc: 0.8548\n",
            "Epoch 5/10\n",
            "20000/20000 [==============================] - 106s 5ms/step - loss: 0.1757 - acc: 0.9366 - val_loss: 0.3108 - val_acc: 0.8662\n",
            "Epoch 6/10\n",
            "20000/20000 [==============================] - 105s 5ms/step - loss: 0.1524 - acc: 0.9443 - val_loss: 0.5278 - val_acc: 0.8534\n",
            "Epoch 7/10\n",
            "20000/20000 [==============================] - 103s 5ms/step - loss: 0.1429 - acc: 0.9493 - val_loss: 0.4648 - val_acc: 0.8740\n",
            "Epoch 8/10\n",
            "20000/20000 [==============================] - 106s 5ms/step - loss: 0.1276 - acc: 0.9557 - val_loss: 0.3276 - val_acc: 0.8814\n",
            "Epoch 9/10\n",
            "20000/20000 [==============================] - 105s 5ms/step - loss: 0.1173 - acc: 0.9585 - val_loss: 0.3469 - val_acc: 0.8762\n",
            "Epoch 10/10\n",
            "20000/20000 [==============================] - 103s 5ms/step - loss: 0.1143 - acc: 0.9610 - val_loss: 0.3917 - val_acc: 0.8782\n"
          ],
          "name": "stdout"
        },
        {
          "output_type": "display_data",
          "data": {
            "text/plain": [
              "<Figure size 432x288 with 0 Axes>"
            ]
          },
          "metadata": {
            "tags": []
          }
        },
        {
          "output_type": "display_data",
          "data": {
            "image/png": "[encoded data removed]",
            "text/plain": [
              "<Figure size 432x288 with 2 Axes>"
            ]
          },
          "metadata": {
            "tags": []
          }
        },
        {
          "output_type": "display_data",
          "data": {
            "text/plain": [
              "<Figure size 432x288 with 0 Axes>"
            ]
          },
          "metadata": {
            "tags": []
          }
        }
      ]
    },
    {
      "cell_type": "code",
      "metadata": {
        "id": "AeobU2Oy7_u5",
        "colab_type": "code",
        "outputId": "57960e72-4269-44bf-c47b-fcfcdb7a062f",
        "colab": {
          "base_uri": "https://localhost:8080/",
          "height": 1029
        }
      },
      "source": [
        "# try to fix bug object arrya ...  with this import\n",
        "!pip install numpy==1.16.1\n",
        "import numpy as np\n",
        "from keras import optimizers\n",
        "from keras import losses\n",
        "from keras import metrics\n",
        "\n",
        "\n",
        "\n",
        "\n",
        "############# model00 as a reference ,  dense only\n",
        "# see cholet # extracted from 3.5-classifying-movie-reviews.py \n",
        "\n",
        "(train_data, train_labels), (test_data, test_labels) = imdb.load_data(num_words=10000)\n",
        "\n",
        "def vectorize_sequences(sequences, dimension=10000):\n",
        "    # Create an all-zero matrix of shape (len(sequences), dimension)\n",
        "    results = np.zeros((len(sequences), dimension))\n",
        "    for i, sequence in enumerate(sequences):\n",
        "        results[i, sequence] = 1.  # set specific indices of results[i] to 1s\n",
        "    return results\n",
        "\n",
        "x00_train = vectorize_sequences(train_data)\n",
        "x00_test = vectorize_sequences(test_data)\n",
        "y00_train = np.asarray(train_labels).astype('float32')\n",
        "y00_test = np.asarray(test_labels).astype('float32')\n",
        "\n",
        "model00 = Sequential()\n",
        "model00.add(Dense(16, activation='relu', input_shape=(10000,)))\n",
        "model00.add(Dense(16, activation='relu'))\n",
        "model00.add(Dense(1, activation='sigmoid'))\n",
        "\n",
        "model00.compile(optimizer=optimizers.RMSprop(lr=0.001),\n",
        "              loss=losses.binary_crossentropy,\n",
        "              metrics=['acc'])\n",
        "\n",
        "x00_val = x00_train[:10000]\n",
        "partial_x00_train = x00_train[10000:]\n",
        "y00_val = y00_train[:10000]\n",
        "partial_y00_train = y00_train[10000:]\n",
        "\n",
        "\n",
        "print (\"train model00  Dense(16) , Dense(16),  Dense(1) )\")                    \n",
        "\n",
        "\n",
        "hist00 = model00.fit(partial_x00_train,\n",
        "                    partial_y00_train,\n",
        "                    epochs=20,\n",
        "                    verbose=2,\n",
        "                    batch_size=512,\n",
        "                    validation_data=(x00_val, y00_val))\n",
        "theTitle =\"model00\"\n",
        "plotTraining( hist00 , theTitle)\n"
      ],
      "execution_count": 0,
      "outputs": [
        {
          "output_type": "stream",
          "text": [
            "Requirement already satisfied: numpy==1.16.1 in /usr/local/lib/python3.6/dist-packages (1.16.1)\n",
            "train model00  Dense(16) , Dense(16),  Dense(1) )\n",
            "Train on 15000 samples, validate on 10000 samples\n",
            "Epoch 1/20\n",
            " - 3s - loss: 0.5084 - acc: 0.7813 - val_loss: 0.3797 - val_acc: 0.8684\n",
            "Epoch 2/20\n",
            " - 2s - loss: 0.3004 - acc: 0.9047 - val_loss: 0.3004 - val_acc: 0.8897\n",
            "Epoch 3/20\n",
            " - 2s - loss: 0.2179 - acc: 0.9285 - val_loss: 0.3085 - val_acc: 0.8711\n",
            "Epoch 4/20\n",
            " - 2s - loss: 0.1750 - acc: 0.9437 - val_loss: 0.2840 - val_acc: 0.8832\n",
            "Epoch 5/20\n",
            " - 2s - loss: 0.1427 - acc: 0.9543 - val_loss: 0.2841 - val_acc: 0.8872\n",
            "Epoch 6/20\n",
            " - 2s - loss: 0.1150 - acc: 0.9650 - val_loss: 0.3166 - val_acc: 0.8772\n",
            "Epoch 7/20\n",
            " - 2s - loss: 0.0980 - acc: 0.9705 - val_loss: 0.3127 - val_acc: 0.8846\n",
            "Epoch 8/20\n",
            " - 2s - loss: 0.0807 - acc: 0.9763 - val_loss: 0.3859 - val_acc: 0.8649\n",
            "Epoch 9/20\n",
            " - 2s - loss: 0.0661 - acc: 0.9821 - val_loss: 0.3635 - val_acc: 0.8782\n",
            "Epoch 10/20\n",
            " - 2s - loss: 0.0561 - acc: 0.9853 - val_loss: 0.3842 - val_acc: 0.8792\n",
            "Epoch 11/20\n",
            " - 2s - loss: 0.0439 - acc: 0.9893 - val_loss: 0.4153 - val_acc: 0.8779\n",
            "Epoch 12/20\n",
            " - 2s - loss: 0.0381 - acc: 0.9921 - val_loss: 0.4525 - val_acc: 0.8690\n",
            "Epoch 13/20\n",
            " - 2s - loss: 0.0300 - acc: 0.9928 - val_loss: 0.4698 - val_acc: 0.8729\n",
            "Epoch 14/20\n",
            " - 2s - loss: 0.0247 - acc: 0.9945 - val_loss: 0.5022 - val_acc: 0.8726\n",
            "Epoch 15/20\n",
            " - 2s - loss: 0.0175 - acc: 0.9979 - val_loss: 0.5342 - val_acc: 0.8693\n",
            "Epoch 16/20\n",
            " - 2s - loss: 0.0149 - acc: 0.9983 - val_loss: 0.5709 - val_acc: 0.8698\n",
            "Epoch 17/20\n",
            " - 2s - loss: 0.0151 - acc: 0.9971 - val_loss: 0.6024 - val_acc: 0.8697\n",
            "Epoch 18/20\n",
            " - 2s - loss: 0.0075 - acc: 0.9996 - val_loss: 0.6780 - val_acc: 0.8633\n",
            "Epoch 19/20\n",
            " - 2s - loss: 0.0117 - acc: 0.9976 - val_loss: 0.6691 - val_acc: 0.8677\n",
            "Epoch 20/20\n",
            " - 2s - loss: 0.0041 - acc: 0.9998 - val_loss: 0.6944 - val_acc: 0.8657\n"
          ],
          "name": "stdout"
        },
        {
          "output_type": "display_data",
          "data": {
            "image/png": "[encoded data removed]",
            "text/plain": [
              "<Figure size 432x288 with 2 Axes>"
            ]
          },
          "metadata": {
            "tags": []
          }
        },
        {
          "output_type": "display_data",
          "data": {
            "text/plain": [
              "<Figure size 432x288 with 0 Axes>"
            ]
          },
          "metadata": {
            "tags": []
          }
        }
      ]
    },
    {
      "cell_type": "code",
      "metadata": {
        "id": "-bFZ31PKIp_P",
        "colab_type": "code",
        "outputId": "6f6f9bd9-abf8-4ed5-8f12-9cb832b51f8e",
        "colab": {
          "base_uri": "https://localhost:8080/",
          "height": 350
        }
      },
      "source": [
        "from google.colab  import files\n",
        "files.download ('model00')\n",
        "\n",
        "\n",
        "\n"
      ],
      "execution_count": 0,
      "outputs": [
        {
          "output_type": "error",
          "ename": "FileNotFoundError",
          "evalue": "ignored",
          "traceback": [
            "\u001b[0;31m---------------------------------------------------------------------------\u001b[0m",
            "\u001b[0;31mFileNotFoundError\u001b[0m                         Traceback (most recent call last)",
            "\u001b[0;32m<ipython-input-37-ff8899fb003b>\u001b[0m in \u001b[0;36m<module>\u001b[0;34m()\u001b[0m\n\u001b[1;32m      1\u001b[0m \u001b[0;32mfrom\u001b[0m \u001b[0mgoogle\u001b[0m\u001b[0;34m.\u001b[0m\u001b[0mcolab\u001b[0m  \u001b[0;32mimport\u001b[0m \u001b[0mfiles\u001b[0m\u001b[0;34m\u001b[0m\u001b[0;34m\u001b[0m\u001b[0m\n\u001b[0;32m----> 2\u001b[0;31m \u001b[0mfiles\u001b[0m\u001b[0;34m.\u001b[0m\u001b[0mdownload\u001b[0m \u001b[0;34m(\u001b[0m\u001b[0;34m'model00'\u001b[0m\u001b[0;34m)\u001b[0m\u001b[0;34m\u001b[0m\u001b[0;34m\u001b[0m\u001b[0m\n\u001b[0m\u001b[1;32m      3\u001b[0m \u001b[0;34m\u001b[0m\u001b[0m\n\u001b[1;32m      4\u001b[0m \u001b[0;34m\u001b[0m\u001b[0m\n\u001b[1;32m      5\u001b[0m \u001b[0;34m\u001b[0m\u001b[0m\n",
            "\u001b[0;32m/usr/local/lib/python3.6/dist-packages/google/colab/files.py\u001b[0m in \u001b[0;36mdownload\u001b[0;34m(filename)\u001b[0m\n\u001b[1;32m    142\u001b[0m       \u001b[0;32mraise\u001b[0m \u001b[0mOSError\u001b[0m\u001b[0;34m(\u001b[0m\u001b[0mmsg\u001b[0m\u001b[0;34m)\u001b[0m\u001b[0;34m\u001b[0m\u001b[0;34m\u001b[0m\u001b[0m\n\u001b[1;32m    143\u001b[0m     \u001b[0;32melse\u001b[0m\u001b[0;34m:\u001b[0m\u001b[0;34m\u001b[0m\u001b[0;34m\u001b[0m\u001b[0m\n\u001b[0;32m--> 144\u001b[0;31m       \u001b[0;32mraise\u001b[0m \u001b[0mFileNotFoundError\u001b[0m\u001b[0;34m(\u001b[0m\u001b[0mmsg\u001b[0m\u001b[0;34m)\u001b[0m  \u001b[0;31m# pylint: disable=undefined-variable\u001b[0m\u001b[0;34m\u001b[0m\u001b[0;34m\u001b[0m\u001b[0m\n\u001b[0m\u001b[1;32m    145\u001b[0m \u001b[0;34m\u001b[0m\u001b[0m\n\u001b[1;32m    146\u001b[0m   \u001b[0mstarted\u001b[0m \u001b[0;34m=\u001b[0m \u001b[0m_threading\u001b[0m\u001b[0;34m.\u001b[0m\u001b[0mEvent\u001b[0m\u001b[0;34m(\u001b[0m\u001b[0;34m)\u001b[0m\u001b[0;34m\u001b[0m\u001b[0;34m\u001b[0m\u001b[0m\n",
            "\u001b[0;31mFileNotFoundError\u001b[0m: Cannot find file: model00"
          ]
        }
      ]
    },
    {
      "cell_type": "markdown",
      "metadata": {
        "id": "Jalc6_4MAE31",
        "colab_type": "text"
      },
      "source": [
        "end notebook\n"
      ]
    }
  ]
}